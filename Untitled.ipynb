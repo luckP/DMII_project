{
 "cells": [
  {
   "cell_type": "code",
   "execution_count": 41,
   "metadata": {},
   "outputs": [],
   "source": [
    "import pandas as pd\n",
    "import html\n",
    "import numpy as np"
   ]
  },
  {
   "cell_type": "code",
   "execution_count": 21,
   "metadata": {},
   "outputs": [
    {
     "data": {
      "text/html": [
       "<div>\n",
       "<style scoped>\n",
       "    .dataframe tbody tr th:only-of-type {\n",
       "        vertical-align: middle;\n",
       "    }\n",
       "\n",
       "    .dataframe tbody tr th {\n",
       "        vertical-align: top;\n",
       "    }\n",
       "\n",
       "    .dataframe thead th {\n",
       "        text-align: right;\n",
       "    }\n",
       "</style>\n",
       "<table border=\"1\" class=\"dataframe\">\n",
       "  <thead>\n",
       "    <tr style=\"text-align: right;\">\n",
       "      <th></th>\n",
       "      <th>movieid</th>\n",
       "      <th>moviename</th>\n",
       "    </tr>\n",
       "  </thead>\n",
       "  <tbody>\n",
       "    <tr>\n",
       "      <th>0</th>\n",
       "      <td>252</td>\n",
       "      <td>$ (Dollars) (The Heist)</td>\n",
       "    </tr>\n",
       "    <tr>\n",
       "      <th>1</th>\n",
       "      <td>253</td>\n",
       "      <td>$5 a Day (Five Dollars a Day)</td>\n",
       "    </tr>\n",
       "    <tr>\n",
       "      <th>2</th>\n",
       "      <td>1</td>\n",
       "      <td>$9.99</td>\n",
       "    </tr>\n",
       "    <tr>\n",
       "      <th>3</th>\n",
       "      <td>254</td>\n",
       "      <td>$windle (Swindle)</td>\n",
       "    </tr>\n",
       "    <tr>\n",
       "      <th>4</th>\n",
       "      <td>255</td>\n",
       "      <td>&amp;#034;BBC2 Playhouse&amp;#034; Caught on a Train</td>\n",
       "    </tr>\n",
       "  </tbody>\n",
       "</table>\n",
       "</div>"
      ],
      "text/plain": [
       "   movieid                                     moviename\n",
       "0      252                       $ (Dollars) (The Heist)\n",
       "1      253                 $5 a Day (Five Dollars a Day)\n",
       "2        1                                         $9.99\n",
       "3      254                             $windle (Swindle)\n",
       "4      255  &#034;BBC2 Playhouse&#034; Caught on a Train"
      ]
     },
     "execution_count": 21,
     "metadata": {},
     "output_type": "execute_result"
    }
   ],
   "source": [
    "# html.unescape(str)\n",
    "# movie_names = pd.read_csv('./data/csv/movie_names.csv', index_col=0)\n",
    "movie = pd.read_csv('./data/csv/movie.csv', index_col=0)\n",
    "# profile = pd.read_csv('./data/csv/profile.csv', index_col=0)\n",
    "# Ratings = pd.read_csv('./data/csv/Ratings.timed.csv', index_col=0)\n",
    "movie.head()"
   ]
  },
  {
   "cell_type": "code",
   "execution_count": 22,
   "metadata": {},
   "outputs": [],
   "source": [
    "movie_names.moviename = movie_names.moviename.apply(lambda x: html.unescape(x))\n",
    "movie.moviename = movie.moviename.apply(lambda x: html.unescape(x))"
   ]
  },
  {
   "cell_type": "code",
   "execution_count": 23,
   "metadata": {},
   "outputs": [],
   "source": [
    "movie.to_csv('./data/csv/movie.csv')"
   ]
  },
  {
   "cell_type": "code",
   "execution_count": 19,
   "metadata": {},
   "outputs": [
    {
     "data": {
      "text/html": [
       "<div>\n",
       "<style scoped>\n",
       "    .dataframe tbody tr th:only-of-type {\n",
       "        vertical-align: middle;\n",
       "    }\n",
       "\n",
       "    .dataframe tbody tr th {\n",
       "        vertical-align: top;\n",
       "    }\n",
       "\n",
       "    .dataframe thead th {\n",
       "        text-align: right;\n",
       "    }\n",
       "</style>\n",
       "<table border=\"1\" class=\"dataframe\">\n",
       "  <thead>\n",
       "    <tr style=\"text-align: right;\">\n",
       "      <th></th>\n",
       "      <th>moviename</th>\n",
       "      <th>movieid</th>\n",
       "    </tr>\n",
       "  </thead>\n",
       "  <tbody>\n",
       "    <tr>\n",
       "      <th>0</th>\n",
       "      <td>$ (Dollars) (The Heist)</td>\n",
       "      <td>252</td>\n",
       "    </tr>\n",
       "    <tr>\n",
       "      <th>1</th>\n",
       "      <td>$5 a Day (Five Dollars a Day)</td>\n",
       "      <td>253</td>\n",
       "    </tr>\n",
       "    <tr>\n",
       "      <th>2</th>\n",
       "      <td>$9.99</td>\n",
       "      <td>1</td>\n",
       "    </tr>\n",
       "    <tr>\n",
       "      <th>3</th>\n",
       "      <td>$windle (Swindle)</td>\n",
       "      <td>254</td>\n",
       "    </tr>\n",
       "    <tr>\n",
       "      <th>4</th>\n",
       "      <td>\"BBC2 Playhouse\" Caught on a Train</td>\n",
       "      <td>255</td>\n",
       "    </tr>\n",
       "  </tbody>\n",
       "</table>\n",
       "</div>"
      ],
      "text/plain": [
       "                            moviename  movieid\n",
       "0             $ (Dollars) (The Heist)      252\n",
       "1       $5 a Day (Five Dollars a Day)      253\n",
       "2                               $9.99        1\n",
       "3                   $windle (Swindle)      254\n",
       "4  \"BBC2 Playhouse\" Caught on a Train      255"
      ]
     },
     "execution_count": 19,
     "metadata": {},
     "output_type": "execute_result"
    }
   ],
   "source": [
    "movie_names.head()"
   ]
  },
  {
   "cell_type": "code",
   "execution_count": 24,
   "metadata": {},
   "outputs": [
    {
     "data": {
      "text/html": [
       "<div>\n",
       "<style scoped>\n",
       "    .dataframe tbody tr th:only-of-type {\n",
       "        vertical-align: middle;\n",
       "    }\n",
       "\n",
       "    .dataframe tbody tr th {\n",
       "        vertical-align: top;\n",
       "    }\n",
       "\n",
       "    .dataframe thead th {\n",
       "        text-align: right;\n",
       "    }\n",
       "</style>\n",
       "<table border=\"1\" class=\"dataframe\">\n",
       "  <thead>\n",
       "    <tr style=\"text-align: right;\">\n",
       "      <th></th>\n",
       "      <th>userid</th>\n",
       "      <th>gender</th>\n",
       "      <th>location</th>\n",
       "      <th>memberfor</th>\n",
       "      <th>lastlogin</th>\n",
       "      <th>profileview</th>\n",
       "      <th>age</th>\n",
       "    </tr>\n",
       "  </thead>\n",
       "  <tbody>\n",
       "    <tr>\n",
       "      <th>0</th>\n",
       "      <td>981904</td>\n",
       "      <td>Male</td>\n",
       "      <td>111.0</td>\n",
       "      <td>2009-09-01 00:00:00</td>\n",
       "      <td>1.0</td>\n",
       "      <td>19</td>\n",
       "      <td>19</td>\n",
       "    </tr>\n",
       "    <tr>\n",
       "      <th>1</th>\n",
       "      <td>882359</td>\n",
       "      <td>Female</td>\n",
       "      <td>870.0</td>\n",
       "      <td>2009-10-02 00:00:00</td>\n",
       "      <td>181.0</td>\n",
       "      <td>108</td>\n",
       "      <td>108</td>\n",
       "    </tr>\n",
       "    <tr>\n",
       "      <th>2</th>\n",
       "      <td>921220</td>\n",
       "      <td>Female</td>\n",
       "      <td>993.0</td>\n",
       "      <td>2009-09-01 00:00:00</td>\n",
       "      <td>124.0</td>\n",
       "      <td>NaN</td>\n",
       "      <td>NaN</td>\n",
       "    </tr>\n",
       "    <tr>\n",
       "      <th>3</th>\n",
       "      <td>798641</td>\n",
       "      <td>Male</td>\n",
       "      <td>250.0</td>\n",
       "      <td>2009-11-01 00:00:00</td>\n",
       "      <td>40.0</td>\n",
       "      <td>22</td>\n",
       "      <td>22</td>\n",
       "    </tr>\n",
       "    <tr>\n",
       "      <th>4</th>\n",
       "      <td>952904</td>\n",
       "      <td>Female</td>\n",
       "      <td>172.0</td>\n",
       "      <td>2009-11-01 00:00:00</td>\n",
       "      <td>44.0</td>\n",
       "      <td>21</td>\n",
       "      <td>21</td>\n",
       "    </tr>\n",
       "  </tbody>\n",
       "</table>\n",
       "</div>"
      ],
      "text/plain": [
       "   userid  gender  location            memberfor  lastlogin profileview  age\n",
       "0  981904    Male     111.0  2009-09-01 00:00:00        1.0          19   19\n",
       "1  882359  Female     870.0  2009-10-02 00:00:00      181.0         108  108\n",
       "2  921220  Female     993.0  2009-09-01 00:00:00      124.0         NaN  NaN\n",
       "3  798641    Male     250.0  2009-11-01 00:00:00       40.0          22   22\n",
       "4  952904  Female     172.0  2009-11-01 00:00:00       44.0          21   21"
      ]
     },
     "execution_count": 24,
     "metadata": {},
     "output_type": "execute_result"
    }
   ],
   "source": [
    "profile.head()"
   ]
  },
  {
   "cell_type": "code",
   "execution_count": 28,
   "metadata": {},
   "outputs": [
    {
     "data": {
      "text/plain": [
       "<matplotlib.axes._subplots.AxesSubplot at 0x117053ad0>"
      ]
     },
     "execution_count": 28,
     "metadata": {},
     "output_type": "execute_result"
    },
    {
     "data": {
      "image/png": "[encoded data removed]",
      "text/plain": [
       "<Figure size 432x288 with 1 Axes>"
      ]
     },
     "metadata": {
      "needs_background": "light"
     },
     "output_type": "display_data"
    }
   ],
   "source": [
    "profile.age.hist(bins=10)"
   ]
  },
  {
   "cell_type": "code",
   "execution_count": 30,
   "metadata": {},
   "outputs": [
    {
     "data": {
      "text/plain": [
       "<bound method Series.max of 0           19\n",
       "1          108\n",
       "2          NaN\n",
       "3           22\n",
       "4           21\n",
       "          ... \n",
       "1002791    109\n",
       "1002792     25\n",
       "1002793     20\n",
       "1002794     19\n",
       "1002795     21\n",
       "Name: age, Length: 1002796, dtype: object>"
      ]
     },
     "execution_count": 30,
     "metadata": {},
     "output_type": "execute_result"
    }
   ],
   "source": [
    "profile.age.max"
   ]
  },
  {
   "cell_type": "code",
   "execution_count": 44,
   "metadata": {},
   "outputs": [
    {
     "data": {
      "text/plain": [
       "array([ 19., 108.,  nan,  22.,  21.,  18.,  13.,  32.,  17.,  23.,  39.,\n",
       "        31.,  30.,  26.,  20.,  27.,  15.,  14.,  25.,  33.,  29.,  16.,\n",
       "        24.,  40.,  37.,  38.,  59.,  47.,  28.,  41.,  69.,  42.,  53.,\n",
       "        36.,  35.,  43.,  57.,  55.,  44.,  51.,  48.,  56.,  34.,  46.,\n",
       "        45.,  49.,  52.,  81.,  50.,  58.,  64.,  60.,  68.,  65., 109.,\n",
       "        63.,  99.,  61.,  67.,  54., 107.,  71.,  66., 102.,  70.,  79.,\n",
       "        90.,  62.,  80., 100.,  87.,  12.,  89.,  91.,  82., 101., 103.,\n",
       "        74.,  85.,  72.,  86.,  98.,  92.,  77.,  83.,  76.,  96., 106.,\n",
       "        95.,  94.,  75., 104.,  88., 105.,  84.,  97., 113.,  73.,  93.,\n",
       "       112.,  78., 111., 110.])"
      ]
     },
     "execution_count": 44,
     "metadata": {},
     "output_type": "execute_result"
    }
   ],
   "source": [
    "pd.Series(profile['age']).unique()"
   ]
  },
  {
   "cell_type": "code",
   "execution_count": 42,
   "metadata": {},
   "outputs": [
    {
     "name": "stderr",
     "output_type": "stream",
     "text": [
      "/Users/lucparada/miniconda3/lib/python3.7/site-packages/numpy/lib/arraysetops.py:569: FutureWarning: elementwise comparison failed; returning scalar instead, but in the future will perform elementwise comparison\n",
      "  mask |= (ar1 == a)\n"
     ]
    },
    {
     "data": {
      "text/html": [
       "<div>\n",
       "<style scoped>\n",
       "    .dataframe tbody tr th:only-of-type {\n",
       "        vertical-align: middle;\n",
       "    }\n",
       "\n",
       "    .dataframe tbody tr th {\n",
       "        vertical-align: top;\n",
       "    }\n",
       "\n",
       "    .dataframe thead th {\n",
       "        text-align: right;\n",
       "    }\n",
       "</style>\n",
       "<table border=\"1\" class=\"dataframe\">\n",
       "  <thead>\n",
       "    <tr style=\"text-align: right;\">\n",
       "      <th></th>\n",
       "      <th>gender</th>\n",
       "      <th>location</th>\n",
       "      <th>memberfor</th>\n",
       "      <th>lastlogin</th>\n",
       "      <th>profileview</th>\n",
       "      <th>age</th>\n",
       "    </tr>\n",
       "    <tr>\n",
       "      <th>userid</th>\n",
       "      <th></th>\n",
       "      <th></th>\n",
       "      <th></th>\n",
       "      <th></th>\n",
       "      <th></th>\n",
       "      <th></th>\n",
       "    </tr>\n",
       "  </thead>\n",
       "  <tbody>\n",
       "    <tr>\n",
       "      <th>981904</th>\n",
       "      <td>Male</td>\n",
       "      <td>111.0</td>\n",
       "      <td>2009-09-01 00:00:00</td>\n",
       "      <td>1.0</td>\n",
       "      <td>19</td>\n",
       "      <td>19</td>\n",
       "    </tr>\n",
       "    <tr>\n",
       "      <th>882359</th>\n",
       "      <td>Female</td>\n",
       "      <td>870.0</td>\n",
       "      <td>2009-10-02 00:00:00</td>\n",
       "      <td>181.0</td>\n",
       "      <td>108</td>\n",
       "      <td>108</td>\n",
       "    </tr>\n",
       "    <tr>\n",
       "      <th>921220</th>\n",
       "      <td>Female</td>\n",
       "      <td>993.0</td>\n",
       "      <td>2009-09-01 00:00:00</td>\n",
       "      <td>124.0</td>\n",
       "      <td>NaN</td>\n",
       "      <td>NaN</td>\n",
       "    </tr>\n",
       "    <tr>\n",
       "      <th>798641</th>\n",
       "      <td>Male</td>\n",
       "      <td>250.0</td>\n",
       "      <td>2009-11-01 00:00:00</td>\n",
       "      <td>40.0</td>\n",
       "      <td>22</td>\n",
       "      <td>22</td>\n",
       "    </tr>\n",
       "    <tr>\n",
       "      <th>952904</th>\n",
       "      <td>Female</td>\n",
       "      <td>172.0</td>\n",
       "      <td>2009-11-01 00:00:00</td>\n",
       "      <td>44.0</td>\n",
       "      <td>21</td>\n",
       "      <td>21</td>\n",
       "    </tr>\n",
       "    <tr>\n",
       "      <th>...</th>\n",
       "      <td>...</td>\n",
       "      <td>...</td>\n",
       "      <td>...</td>\n",
       "      <td>...</td>\n",
       "      <td>...</td>\n",
       "      <td>...</td>\n",
       "    </tr>\n",
       "    <tr>\n",
       "      <th>550953</th>\n",
       "      <td>Male</td>\n",
       "      <td>496.0</td>\n",
       "      <td>2009-09-02 00:00:00</td>\n",
       "      <td>22.0</td>\n",
       "      <td>109</td>\n",
       "      <td>109</td>\n",
       "    </tr>\n",
       "    <tr>\n",
       "      <th>933528</th>\n",
       "      <td>Female</td>\n",
       "      <td>580.0</td>\n",
       "      <td>2009-09-02 00:00:00</td>\n",
       "      <td>18.0</td>\n",
       "      <td>25</td>\n",
       "      <td>25</td>\n",
       "    </tr>\n",
       "    <tr>\n",
       "      <th>315570</th>\n",
       "      <td>Male</td>\n",
       "      <td>223.0</td>\n",
       "      <td>2009-10-02 00:00:00</td>\n",
       "      <td>8.0</td>\n",
       "      <td>20</td>\n",
       "      <td>20</td>\n",
       "    </tr>\n",
       "    <tr>\n",
       "      <th>70744</th>\n",
       "      <td>Female</td>\n",
       "      <td>177.0</td>\n",
       "      <td>2009-09-02 00:00:00</td>\n",
       "      <td>287.0</td>\n",
       "      <td>19</td>\n",
       "      <td>19</td>\n",
       "    </tr>\n",
       "    <tr>\n",
       "      <th>971553</th>\n",
       "      <td>Male</td>\n",
       "      <td>219.0</td>\n",
       "      <td>2009-04-02 00:00:00</td>\n",
       "      <td>5.0</td>\n",
       "      <td>21</td>\n",
       "      <td>21</td>\n",
       "    </tr>\n",
       "  </tbody>\n",
       "</table>\n",
       "<p>1002796 rows × 6 columns</p>\n",
       "</div>"
      ],
      "text/plain": [
       "        gender  location            memberfor  lastlogin profileview  age\n",
       "userid                                                                   \n",
       "981904    Male     111.0  2009-09-01 00:00:00        1.0          19   19\n",
       "882359  Female     870.0  2009-10-02 00:00:00      181.0         108  108\n",
       "921220  Female     993.0  2009-09-01 00:00:00      124.0         NaN  NaN\n",
       "798641    Male     250.0  2009-11-01 00:00:00       40.0          22   22\n",
       "952904  Female     172.0  2009-11-01 00:00:00       44.0          21   21\n",
       "...        ...       ...                  ...        ...         ...  ...\n",
       "550953    Male     496.0  2009-09-02 00:00:00       22.0         109  109\n",
       "933528  Female     580.0  2009-09-02 00:00:00       18.0          25   25\n",
       "315570    Male     223.0  2009-10-02 00:00:00        8.0          20   20\n",
       "70744   Female     177.0  2009-09-02 00:00:00      287.0          19   19\n",
       "971553    Male     219.0  2009-04-02 00:00:00        5.0          21   21\n",
       "\n",
       "[1002796 rows x 6 columns]"
      ]
     },
     "execution_count": 42,
     "metadata": {},
     "output_type": "execute_result"
    }
   ],
   "source": [
    "profile = pd.read_csv('./data/profile.txt', index_col=0)\n",
    "profile"
   ]
  },
  {
   "cell_type": "code",
   "execution_count": 43,
   "metadata": {},
   "outputs": [
    {
     "data": {
      "text/html": [
       "<div>\n",
       "<style scoped>\n",
       "    .dataframe tbody tr th:only-of-type {\n",
       "        vertical-align: middle;\n",
       "    }\n",
       "\n",
       "    .dataframe tbody tr th {\n",
       "        vertical-align: top;\n",
       "    }\n",
       "\n",
       "    .dataframe thead th {\n",
       "        text-align: right;\n",
       "    }\n",
       "</style>\n",
       "<table border=\"1\" class=\"dataframe\">\n",
       "  <thead>\n",
       "    <tr style=\"text-align: right;\">\n",
       "      <th></th>\n",
       "      <th>gender</th>\n",
       "      <th>location</th>\n",
       "      <th>memberfor</th>\n",
       "      <th>lastlogin</th>\n",
       "      <th>profileview</th>\n",
       "      <th>age</th>\n",
       "    </tr>\n",
       "    <tr>\n",
       "      <th>userid</th>\n",
       "      <th></th>\n",
       "      <th></th>\n",
       "      <th></th>\n",
       "      <th></th>\n",
       "      <th></th>\n",
       "      <th></th>\n",
       "    </tr>\n",
       "  </thead>\n",
       "  <tbody>\n",
       "    <tr>\n",
       "      <th>981904</th>\n",
       "      <td>Male</td>\n",
       "      <td>111.0</td>\n",
       "      <td>2009-09-01 00:00:00</td>\n",
       "      <td>1.0</td>\n",
       "      <td>19</td>\n",
       "      <td>19.0</td>\n",
       "    </tr>\n",
       "    <tr>\n",
       "      <th>882359</th>\n",
       "      <td>Female</td>\n",
       "      <td>870.0</td>\n",
       "      <td>2009-10-02 00:00:00</td>\n",
       "      <td>181.0</td>\n",
       "      <td>108</td>\n",
       "      <td>108.0</td>\n",
       "    </tr>\n",
       "    <tr>\n",
       "      <th>921220</th>\n",
       "      <td>Female</td>\n",
       "      <td>993.0</td>\n",
       "      <td>2009-09-01 00:00:00</td>\n",
       "      <td>124.0</td>\n",
       "      <td>NaN</td>\n",
       "      <td>NaN</td>\n",
       "    </tr>\n",
       "    <tr>\n",
       "      <th>798641</th>\n",
       "      <td>Male</td>\n",
       "      <td>250.0</td>\n",
       "      <td>2009-11-01 00:00:00</td>\n",
       "      <td>40.0</td>\n",
       "      <td>22</td>\n",
       "      <td>22.0</td>\n",
       "    </tr>\n",
       "    <tr>\n",
       "      <th>952904</th>\n",
       "      <td>Female</td>\n",
       "      <td>172.0</td>\n",
       "      <td>2009-11-01 00:00:00</td>\n",
       "      <td>44.0</td>\n",
       "      <td>21</td>\n",
       "      <td>21.0</td>\n",
       "    </tr>\n",
       "    <tr>\n",
       "      <th>...</th>\n",
       "      <td>...</td>\n",
       "      <td>...</td>\n",
       "      <td>...</td>\n",
       "      <td>...</td>\n",
       "      <td>...</td>\n",
       "      <td>...</td>\n",
       "    </tr>\n",
       "    <tr>\n",
       "      <th>550953</th>\n",
       "      <td>Male</td>\n",
       "      <td>496.0</td>\n",
       "      <td>2009-09-02 00:00:00</td>\n",
       "      <td>22.0</td>\n",
       "      <td>109</td>\n",
       "      <td>109.0</td>\n",
       "    </tr>\n",
       "    <tr>\n",
       "      <th>933528</th>\n",
       "      <td>Female</td>\n",
       "      <td>580.0</td>\n",
       "      <td>2009-09-02 00:00:00</td>\n",
       "      <td>18.0</td>\n",
       "      <td>25</td>\n",
       "      <td>25.0</td>\n",
       "    </tr>\n",
       "    <tr>\n",
       "      <th>315570</th>\n",
       "      <td>Male</td>\n",
       "      <td>223.0</td>\n",
       "      <td>2009-10-02 00:00:00</td>\n",
       "      <td>8.0</td>\n",
       "      <td>20</td>\n",
       "      <td>20.0</td>\n",
       "    </tr>\n",
       "    <tr>\n",
       "      <th>70744</th>\n",
       "      <td>Female</td>\n",
       "      <td>177.0</td>\n",
       "      <td>2009-09-02 00:00:00</td>\n",
       "      <td>287.0</td>\n",
       "      <td>19</td>\n",
       "      <td>19.0</td>\n",
       "    </tr>\n",
       "    <tr>\n",
       "      <th>971553</th>\n",
       "      <td>Male</td>\n",
       "      <td>219.0</td>\n",
       "      <td>2009-04-02 00:00:00</td>\n",
       "      <td>5.0</td>\n",
       "      <td>21</td>\n",
       "      <td>21.0</td>\n",
       "    </tr>\n",
       "  </tbody>\n",
       "</table>\n",
       "<p>1002796 rows × 6 columns</p>\n",
       "</div>"
      ],
      "text/plain": [
       "        gender  location            memberfor  lastlogin profileview    age\n",
       "userid                                                                     \n",
       "981904    Male     111.0  2009-09-01 00:00:00        1.0          19   19.0\n",
       "882359  Female     870.0  2009-10-02 00:00:00      181.0         108  108.0\n",
       "921220  Female     993.0  2009-09-01 00:00:00      124.0         NaN    NaN\n",
       "798641    Male     250.0  2009-11-01 00:00:00       40.0          22   22.0\n",
       "952904  Female     172.0  2009-11-01 00:00:00       44.0          21   21.0\n",
       "...        ...       ...                  ...        ...         ...    ...\n",
       "550953    Male     496.0  2009-09-02 00:00:00       22.0         109  109.0\n",
       "933528  Female     580.0  2009-09-02 00:00:00       18.0          25   25.0\n",
       "315570    Male     223.0  2009-10-02 00:00:00        8.0          20   20.0\n",
       "70744   Female     177.0  2009-09-02 00:00:00      287.0          19   19.0\n",
       "971553    Male     219.0  2009-04-02 00:00:00        5.0          21   21.0\n",
       "\n",
       "[1002796 rows x 6 columns]"
      ]
     },
     "execution_count": 43,
     "metadata": {},
     "output_type": "execute_result"
    }
   ],
   "source": [
    "def change(x):\n",
    "    try:\n",
    "        return int(x)\n",
    "    except:\n",
    "        return np.nan\n",
    "    \n",
    "profile['age'] = profile['age'].apply(lambda x : change(x))\n",
    "profile"
   ]
  },
  {
   "cell_type": "code",
   "execution_count": 57,
   "metadata": {},
   "outputs": [
    {
     "data": {
      "text/plain": [
       "<matplotlib.axes._subplots.AxesSubplot at 0x11963bc50>"
      ]
     },
     "execution_count": 57,
     "metadata": {},
     "output_type": "execute_result"
    },
    {
     "data": {
      "image/png": "[encoded data removed]",
      "text/plain": [
       "<Figure size 432x288 with 1 Axes>"
      ]
     },
     "metadata": {
      "needs_background": "light"
     },
     "output_type": "display_data"
    }
   ],
   "source": [
    "profile[['age']].groupby('age').agg({'age' : ['count']}).plot()"
   ]
  },
  {
   "cell_type": "code",
   "execution_count": null,
   "metadata": {},
   "outputs": [],
   "source": []
  }
 ],
 "metadata": {
  "kernelspec": {
   "display_name": "Python 3",
   "language": "python",
   "name": "python3"
  },
  "language_info": {
   "codemirror_mode": {
    "name": "ipython",
    "version": 3
   },
   "file_extension": ".py",
   "mimetype": "text/x-python",
   "name": "python",
   "nbconvert_exporter": "python",
   "pygments_lexer": "ipython3",
   "version": "3.7.4"
  }
 },
 "nbformat": 4,
 "nbformat_minor": 4
}
